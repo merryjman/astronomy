{
 "cells": [
  {
   "cell_type": "markdown",
   "metadata": {},
   "source": [
    "#  Plotting Recent Earthquake Locations\n",
    "The U.S. Geological Survey (USGS) has raw data available online. More info at the [USGS earthquakes page](http://earthquake.usgs.gov/earthquakes/feed/v1.0/csv.php).\n",
    "\n",
    "This notebook was started by Physics teacher and Quarknet member Peter Apps, York Middle/High School, Retsof, NY."
   ]
  },
  {
   "cell_type": "code",
   "execution_count": 1,
   "metadata": {
    "collapsed": true
   },
   "outputs": [],
   "source": [
    "#importing what we'll need\n",
    "import numpy as np\n",
    "import pandas as pd\n",
    "%matplotlib inline\n",
    "import matplotlib.pyplot as plt"
   ]
  },
  {
   "cell_type": "markdown",
   "metadata": {},
   "source": [
    "## Choose your data\n",
    "In the box below, uncomment one of the data sets by deleting the # at the beginning of the line. Here's the [full listing](http://earthquake.usgs.gov/earthquakes/feed/v1.0/csv.php) of the different data sets you can grab."
   ]
  },
  {
   "cell_type": "code",
   "execution_count": 2,
   "metadata": {
    "collapsed": false
   },
   "outputs": [],
   "source": [
    "# Just earthquakes from the past hour\n",
    "#data = pd.read_csv(\"http://earthquake.usgs.gov/earthquakes/feed/v1.0/summary/all_hour.csv\")\n",
    "\n",
    "# All earthquake events in the last month\n",
    "data = pd.read_csv(\"http://earthquake.usgs.gov/earthquakes/feed/v1.0/summary/all_month.csv\")\n",
    "\n",
    "# Only large earthquakes (magnitude 4.5 or greater) in teh past month\n",
    "#data = pd.read_csv(\"http://earthquake.usgs.gov/earthquakes/feed/v1.0/summary/4.5_month.csv\")"
   ]
  },
  {
   "cell_type": "code",
   "execution_count": 3,
   "metadata": {
    "collapsed": false
   },
   "outputs": [
    {
     "data": {
      "text/html": [
       "<div>\n",
       "<table border=\"1\" class=\"dataframe\">\n",
       "  <thead>\n",
       "    <tr style=\"text-align: right;\">\n",
       "      <th></th>\n",
       "      <th>time</th>\n",
       "      <th>latitude</th>\n",
       "      <th>longitude</th>\n",
       "      <th>depth</th>\n",
       "      <th>mag</th>\n",
       "      <th>magType</th>\n",
       "      <th>nst</th>\n",
       "      <th>gap</th>\n",
       "      <th>dmin</th>\n",
       "      <th>rms</th>\n",
       "      <th>...</th>\n",
       "      <th>updated</th>\n",
       "      <th>place</th>\n",
       "      <th>type</th>\n",
       "      <th>horizontalError</th>\n",
       "      <th>depthError</th>\n",
       "      <th>magError</th>\n",
       "      <th>magNst</th>\n",
       "      <th>status</th>\n",
       "      <th>locationSource</th>\n",
       "      <th>magSource</th>\n",
       "    </tr>\n",
       "  </thead>\n",
       "  <tbody>\n",
       "    <tr>\n",
       "      <th>0</th>\n",
       "      <td>2017-03-29T12:56:54.242Z</td>\n",
       "      <td>64.887400</td>\n",
       "      <td>-149.593000</td>\n",
       "      <td>18.60</td>\n",
       "      <td>1.10</td>\n",
       "      <td>ml</td>\n",
       "      <td>NaN</td>\n",
       "      <td>NaN</td>\n",
       "      <td>NaN</td>\n",
       "      <td>0.68</td>\n",
       "      <td>...</td>\n",
       "      <td>2017-03-29T13:01:47.100Z</td>\n",
       "      <td>41km NNW of North Nenana, Alaska</td>\n",
       "      <td>earthquake</td>\n",
       "      <td>NaN</td>\n",
       "      <td>0.10</td>\n",
       "      <td>NaN</td>\n",
       "      <td>NaN</td>\n",
       "      <td>automatic</td>\n",
       "      <td>ak</td>\n",
       "      <td>ak</td>\n",
       "    </tr>\n",
       "    <tr>\n",
       "      <th>1</th>\n",
       "      <td>2017-03-29T12:36:32.275Z</td>\n",
       "      <td>63.474300</td>\n",
       "      <td>-151.565500</td>\n",
       "      <td>0.00</td>\n",
       "      <td>1.40</td>\n",
       "      <td>ml</td>\n",
       "      <td>NaN</td>\n",
       "      <td>NaN</td>\n",
       "      <td>NaN</td>\n",
       "      <td>0.62</td>\n",
       "      <td>...</td>\n",
       "      <td>2017-03-29T12:44:47.448Z</td>\n",
       "      <td>130km W of Cantwell, Alaska</td>\n",
       "      <td>earthquake</td>\n",
       "      <td>NaN</td>\n",
       "      <td>0.30</td>\n",
       "      <td>NaN</td>\n",
       "      <td>NaN</td>\n",
       "      <td>automatic</td>\n",
       "      <td>ak</td>\n",
       "      <td>ak</td>\n",
       "    </tr>\n",
       "    <tr>\n",
       "      <th>2</th>\n",
       "      <td>2017-03-29T12:35:40.820Z</td>\n",
       "      <td>37.610001</td>\n",
       "      <td>-118.856331</td>\n",
       "      <td>2.35</td>\n",
       "      <td>0.95</td>\n",
       "      <td>md</td>\n",
       "      <td>9.0</td>\n",
       "      <td>140.0</td>\n",
       "      <td>0.0104</td>\n",
       "      <td>0.01</td>\n",
       "      <td>...</td>\n",
       "      <td>2017-03-29T12:41:02.897Z</td>\n",
       "      <td>11km ESE of Mammoth Lakes, California</td>\n",
       "      <td>earthquake</td>\n",
       "      <td>0.51</td>\n",
       "      <td>0.97</td>\n",
       "      <td>0.210</td>\n",
       "      <td>9.0</td>\n",
       "      <td>automatic</td>\n",
       "      <td>nc</td>\n",
       "      <td>nc</td>\n",
       "    </tr>\n",
       "    <tr>\n",
       "      <th>3</th>\n",
       "      <td>2017-03-29T12:17:47.900Z</td>\n",
       "      <td>35.542333</td>\n",
       "      <td>-118.391667</td>\n",
       "      <td>-0.16</td>\n",
       "      <td>1.74</td>\n",
       "      <td>ml</td>\n",
       "      <td>20.0</td>\n",
       "      <td>107.0</td>\n",
       "      <td>0.1377</td>\n",
       "      <td>0.14</td>\n",
       "      <td>...</td>\n",
       "      <td>2017-03-29T12:21:53.196Z</td>\n",
       "      <td>10km ESE of Bodfish, CA</td>\n",
       "      <td>earthquake</td>\n",
       "      <td>0.26</td>\n",
       "      <td>31.61</td>\n",
       "      <td>0.263</td>\n",
       "      <td>26.0</td>\n",
       "      <td>automatic</td>\n",
       "      <td>ci</td>\n",
       "      <td>ci</td>\n",
       "    </tr>\n",
       "  </tbody>\n",
       "</table>\n",
       "<p>4 rows × 22 columns</p>\n",
       "</div>"
      ],
      "text/plain": [
       "                       time   latitude   longitude  depth   mag magType   nst  \\\n",
       "0  2017-03-29T12:56:54.242Z  64.887400 -149.593000  18.60  1.10      ml   NaN   \n",
       "1  2017-03-29T12:36:32.275Z  63.474300 -151.565500   0.00  1.40      ml   NaN   \n",
       "2  2017-03-29T12:35:40.820Z  37.610001 -118.856331   2.35  0.95      md   9.0   \n",
       "3  2017-03-29T12:17:47.900Z  35.542333 -118.391667  -0.16  1.74      ml  20.0   \n",
       "\n",
       "     gap    dmin   rms    ...                      updated  \\\n",
       "0    NaN     NaN  0.68    ...     2017-03-29T13:01:47.100Z   \n",
       "1    NaN     NaN  0.62    ...     2017-03-29T12:44:47.448Z   \n",
       "2  140.0  0.0104  0.01    ...     2017-03-29T12:41:02.897Z   \n",
       "3  107.0  0.1377  0.14    ...     2017-03-29T12:21:53.196Z   \n",
       "\n",
       "                                   place        type horizontalError  \\\n",
       "0       41km NNW of North Nenana, Alaska  earthquake             NaN   \n",
       "1            130km W of Cantwell, Alaska  earthquake             NaN   \n",
       "2  11km ESE of Mammoth Lakes, California  earthquake            0.51   \n",
       "3                10km ESE of Bodfish, CA  earthquake            0.26   \n",
       "\n",
       "  depthError  magError  magNst     status  locationSource magSource  \n",
       "0       0.10       NaN     NaN  automatic              ak        ak  \n",
       "1       0.30       NaN     NaN  automatic              ak        ak  \n",
       "2       0.97     0.210     9.0  automatic              nc        nc  \n",
       "3      31.61     0.263    26.0  automatic              ci        ci  \n",
       "\n",
       "[4 rows x 22 columns]"
      ]
     },
     "execution_count": 3,
     "metadata": {},
     "output_type": "execute_result"
    }
   ],
   "source": [
    "data.head(4)"
   ]
  },
  {
   "cell_type": "code",
   "execution_count": 4,
   "metadata": {
    "collapsed": false
   },
   "outputs": [
    {
     "data": {
      "image/png": "[encoded data removed]",
      "text/plain": [
       "<matplotlib.figure.Figure at 0x7fe0943f15f8>"
      ]
     },
     "metadata": {},
     "output_type": "display_data"
    }
   ],
   "source": [
    "# Set variables for scatter plot\n",
    "x = data.longitude\n",
    "y = data.latitude\n",
    "\n",
    "plt.scatter(x,y)\n",
    "plt.title('Earthquakes around the world (last month)')\n",
    "plt.xlabel('Longitude')\n",
    "plt.ylabel('Latitude')\n",
    "\n",
    "# This actually shows the plot\n",
    "plt.show()"
   ]
  },
  {
   "cell_type": "markdown",
   "metadata": {},
   "source": [
    "Do you notice a pattern in the plot?\n",
    "\n",
    "## Run a new analysis\n",
    "You can edit the code, maybe grab a different data set, and run the program again by going to Kernel > Restart & Run All"
   ]
  },
  {
   "cell_type": "code",
   "execution_count": null,
   "metadata": {
    "collapsed": true
   },
   "outputs": [],
   "source": []
  }
 ],
 "metadata": {
  "anaconda-cloud": {},
  "kernelspec": {
   "display_name": "Python 3",
   "language": "python",
   "name": "python3"
  },
  "language_info": {
   "codemirror_mode": {
    "name": "ipython",
    "version": 3
   },
   "file_extension": ".py",
   "mimetype": "text/x-python",
   "name": "python",
   "nbconvert_exporter": "python",
   "pygments_lexer": "ipython3",
   "version": "3.5.2"
  }
 },
 "nbformat": 4,
 "nbformat_minor": 0
}
